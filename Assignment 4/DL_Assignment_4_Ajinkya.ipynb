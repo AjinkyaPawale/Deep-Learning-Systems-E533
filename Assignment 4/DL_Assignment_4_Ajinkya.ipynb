{
  "nbformat": 4,
  "nbformat_minor": 0,
  "metadata": {
    "accelerator": "GPU",
    "colab": {
      "name": "DL-Assignment-4-Ajinkya.ipynb",
      "provenance": [],
      "collapsed_sections": [],
      "machine_shape": "hm"
    },
    "kernelspec": {
      "display_name": "Python 3",
      "name": "python3"
    },
    "language_info": {
      "name": "python"
    }
  },
  "cells": [
    {
      "cell_type": "code",
      "metadata": {
        "id": "Oav8z3eC9RCn"
      },
      "source": [
        "import os\n",
        "from sklearn.model_selection import StratifiedShuffleSplit\n",
        "import tensorflow as tf\n",
        "import numpy as np\n",
        "import pandas as pd\n",
        "from tensorflow.keras.models import Sequential\n",
        "from keras.layers.core import Dense,Activation\n",
        "import numpy as geek\n",
        "import soundfile as sf\n",
        "from tensorflow.keras.callbacks import EarlyStopping\n",
        "from tensorflow.keras.layers import Conv1D, Dense, MaxPooling1D, Flatten,Conv2D,MaxPooling2D,GRU, Input\n",
        "from tensorflow.keras.layers import BatchNormalization, Dropout\n",
        "from matplotlib import pyplot as plt\n",
        "from tensorflow.keras.layers.experimental.preprocessing import Rescaling\n",
        "from sklearn.model_selection import train_test_split\n",
        "from tensorflow.keras.models import Model\n",
        "from tensorflow.keras.models import load_model,save_model\n",
        "from tensorflow.keras.models import Sequential\n",
        "import tensorflow.keras.layers as layers\n",
        "from tensorflow.keras.layers import Dense\n",
        "import numpy as np\n",
        "import librosa\n",
        "import os\n",
        "import itertools\n",
        "from keras.layers import Layer\n",
        "from keras import backend as K \n",
        "import tensorflow.keras.backend as K\n",
        "import librosa\n",
        "from tensorflow.keras.utils import Sequence\n",
        "from tensorflow.keras.activations import sigmoid\n",
        "from tensorflow.keras.metrics import BinaryAccuracy\n",
        "import pickle\n",
        "import random\n",
        "from itertools import combinations"
      ],
      "execution_count": 2,
      "outputs": []
    },
    {
      "cell_type": "markdown",
      "metadata": {
        "id": "eUVKWY6QUYAL"
      },
      "source": [
        "## **Part 1**"
      ]
    },
    {
      "cell_type": "markdown",
      "metadata": {
        "id": "IUCmnw2tUS6H"
      },
      "source": [
        "**Loading the MNIST dataset**"
      ]
    },
    {
      "cell_type": "code",
      "metadata": {
        "id": "KbFOSVjHKvE2",
        "colab": {
          "base_uri": "https://localhost:8080/"
        },
        "outputId": "774dc0ea-e6ef-4502-d434-4b315f9100e8"
      },
      "source": [
        "  mnist = tf.keras.datasets.mnist\n",
        "  (xtrain, ytrain), (xtest,ytest) = mnist.load_data()"
      ],
      "execution_count": 5,
      "outputs": [
        {
          "output_type": "stream",
          "name": "stdout",
          "text": [
            "Downloading data from https://storage.googleapis.com/tensorflow/tf-keras-datasets/mnist.npz\n",
            "11493376/11490434 [==============================] - 0s 0us/step\n",
            "11501568/11490434 [==============================] - 0s 0us/step\n"
          ]
        }
      ]
    },
    {
      "cell_type": "code",
      "metadata": {
        "colab": {
          "base_uri": "https://localhost:8080/"
        },
        "id": "ZTI4rQolOY9v",
        "outputId": "30297c2b-6c64-4f3b-a0b7-a08b2295f051"
      },
      "source": [
        "xtrain.shape, xtest.shape"
      ],
      "execution_count": 6,
      "outputs": [
        {
          "output_type": "execute_result",
          "data": {
            "text/plain": [
              "((60000, 28, 28), (10000, 28, 28))"
            ]
          },
          "metadata": {},
          "execution_count": 6
        }
      ]
    },
    {
      "cell_type": "markdown",
      "metadata": {
        "id": "BW0_9uEoUev0"
      },
      "source": [
        "**Reshaping**"
      ]
    },
    {
      "cell_type": "code",
      "metadata": {
        "id": "0rQG7kZSOb4H"
      },
      "source": [
        "xtrain = np.reshape(xtrain, [-1, 784])\n",
        "xtest = np.reshape(xtest, [-1, 784])\n",
        "xtrain, xtest = xtrain/255, xtest/255"
      ],
      "execution_count": 7,
      "outputs": []
    },
    {
      "cell_type": "code",
      "metadata": {
        "colab": {
          "base_uri": "https://localhost:8080/"
        },
        "id": "UC3K_76AMklH",
        "outputId": "f5265fdd-c1f9-468f-97f8-95b36833f22b"
      },
      "source": [
        "xtrain.shape, xtest.shape"
      ],
      "execution_count": null,
      "outputs": [
        {
          "data": {
            "text/plain": [
              "((60000, 784), (10000, 784))"
            ]
          },
          "execution_count": 6,
          "metadata": {},
          "output_type": "execute_result"
        }
      ]
    },
    {
      "cell_type": "code",
      "metadata": {
        "colab": {
          "base_uri": "https://localhost:8080/"
        },
        "id": "t-L1BgJer2I5",
        "outputId": "75f5597c-2429-41d4-a10b-da7f42662e95"
      },
      "source": [
        "ytest"
      ],
      "execution_count": null,
      "outputs": [
        {
          "data": {
            "text/plain": [
              "array([7, 2, 1, ..., 4, 5, 6], dtype=uint8)"
            ]
          },
          "execution_count": 7,
          "metadata": {},
          "output_type": "execute_result"
        }
      ]
    },
    {
      "cell_type": "markdown",
      "metadata": {
        "id": "nTgKYpz0UhMt"
      },
      "source": [
        "**Creating the baseline model**"
      ]
    },
    {
      "cell_type": "code",
      "metadata": {
        "id": "Xiiak0YnOl8N"
      },
      "source": [
        "initializer = tf.keras.initializers.HeNormal()\n",
        "baseline = Sequential()\n",
        "baseline.add(Dense(1024, input_dim=784,kernel_initializer=initializer))\n",
        "baseline.add(Activation('relu'))\n",
        "baseline.add(Dense(1024,kernel_initializer=initializer))\n",
        "baseline.add(Activation('relu'))\n",
        "baseline.add(Dense(1024,kernel_initializer=initializer))\n",
        "baseline.add(Activation('relu'))\n",
        "baseline.add(Dense(1024,kernel_initializer=initializer))\n",
        "baseline.add(Activation('relu'))\n",
        "baseline.add(Dense(1024,kernel_initializer=initializer))\n",
        "baseline.add(Activation('relu'))\n",
        "baseline.add(Dense(10))\n",
        "baseline.add(Activation('softmax'))"
      ],
      "execution_count": 8,
      "outputs": []
    },
    {
      "cell_type": "code",
      "metadata": {
        "colab": {
          "base_uri": "https://localhost:8080/"
        },
        "id": "KeAnTgT-QqXA",
        "outputId": "18a9d41e-53ca-4de2-e30c-d361e6586abf"
      },
      "source": [
        "baseline.summary()"
      ],
      "execution_count": 9,
      "outputs": [
        {
          "output_type": "stream",
          "name": "stdout",
          "text": [
            "Model: \"sequential\"\n",
            "_________________________________________________________________\n",
            " Layer (type)                Output Shape              Param #   \n",
            "=================================================================\n",
            " dense (Dense)               (None, 1024)              803840    \n",
            "                                                                 \n",
            " activation (Activation)     (None, 1024)              0         \n",
            "                                                                 \n",
            " dense_1 (Dense)             (None, 1024)              1049600   \n",
            "                                                                 \n",
            " activation_1 (Activation)   (None, 1024)              0         \n",
            "                                                                 \n",
            " dense_2 (Dense)             (None, 1024)              1049600   \n",
            "                                                                 \n",
            " activation_2 (Activation)   (None, 1024)              0         \n",
            "                                                                 \n",
            " dense_3 (Dense)             (None, 1024)              1049600   \n",
            "                                                                 \n",
            " activation_3 (Activation)   (None, 1024)              0         \n",
            "                                                                 \n",
            " dense_4 (Dense)             (None, 1024)              1049600   \n",
            "                                                                 \n",
            " activation_4 (Activation)   (None, 1024)              0         \n",
            "                                                                 \n",
            " dense_5 (Dense)             (None, 10)                10250     \n",
            "                                                                 \n",
            " activation_5 (Activation)   (None, 10)                0         \n",
            "                                                                 \n",
            "=================================================================\n",
            "Total params: 5,012,490\n",
            "Trainable params: 5,012,490\n",
            "Non-trainable params: 0\n",
            "_________________________________________________________________\n"
          ]
        }
      ]
    },
    {
      "cell_type": "markdown",
      "metadata": {
        "id": "G_nzEdROUkH7"
      },
      "source": [
        "**Compiling and Running the model on train set**"
      ]
    },
    {
      "cell_type": "code",
      "metadata": {
        "id": "OVyKVw3nOl2p"
      },
      "source": [
        "baseline.compile(optimizer='adam',loss='sparse_categorical_crossentropy',metrics=['accuracy'])"
      ],
      "execution_count": 10,
      "outputs": []
    },
    {
      "cell_type": "code",
      "metadata": {
        "colab": {
          "base_uri": "https://localhost:8080/"
        },
        "id": "lwdQ-VANQQVV",
        "outputId": "2cd40044-99d6-4dc4-af18-b4dcd08b6a12"
      },
      "source": [
        "baseline.fit(xtrain,ytrain,epochs=15)"
      ],
      "execution_count": 11,
      "outputs": [
        {
          "output_type": "stream",
          "name": "stdout",
          "text": [
            "Epoch 1/15\n",
            "1875/1875 [==============================] - 7s 3ms/step - loss: 0.2472 - accuracy: 0.9320\n",
            "Epoch 2/15\n",
            "1875/1875 [==============================] - 5s 3ms/step - loss: 0.1290 - accuracy: 0.9670\n",
            "Epoch 3/15\n",
            "1875/1875 [==============================] - 5s 3ms/step - loss: 0.0998 - accuracy: 0.9748\n",
            "Epoch 4/15\n",
            "1875/1875 [==============================] - 5s 3ms/step - loss: 0.0780 - accuracy: 0.9806\n",
            "Epoch 5/15\n",
            "1875/1875 [==============================] - 5s 3ms/step - loss: 0.0682 - accuracy: 0.9823\n",
            "Epoch 6/15\n",
            "1875/1875 [==============================] - 5s 3ms/step - loss: 0.0619 - accuracy: 0.9845\n",
            "Epoch 7/15\n",
            "1875/1875 [==============================] - 5s 3ms/step - loss: 0.0515 - accuracy: 0.9871\n",
            "Epoch 8/15\n",
            "1875/1875 [==============================] - 5s 3ms/step - loss: 0.0470 - accuracy: 0.9886\n",
            "Epoch 9/15\n",
            "1875/1875 [==============================] - 5s 3ms/step - loss: 0.0427 - accuracy: 0.9895\n",
            "Epoch 10/15\n",
            "1875/1875 [==============================] - 5s 3ms/step - loss: 0.0360 - accuracy: 0.9914\n",
            "Epoch 11/15\n",
            "1875/1875 [==============================] - 5s 3ms/step - loss: 0.0354 - accuracy: 0.9913\n",
            "Epoch 12/15\n",
            "1875/1875 [==============================] - 5s 3ms/step - loss: 0.0372 - accuracy: 0.9908\n",
            "Epoch 13/15\n",
            "1875/1875 [==============================] - 5s 3ms/step - loss: 0.0333 - accuracy: 0.9921\n",
            "Epoch 14/15\n",
            "1875/1875 [==============================] - 5s 3ms/step - loss: 0.0326 - accuracy: 0.9934\n",
            "Epoch 15/15\n",
            "1875/1875 [==============================] - 5s 3ms/step - loss: 0.0311 - accuracy: 0.9933\n"
          ]
        },
        {
          "output_type": "execute_result",
          "data": {
            "text/plain": [
              "<keras.callbacks.History at 0x7f7ac062ad10>"
            ]
          },
          "metadata": {},
          "execution_count": 11
        }
      ]
    },
    {
      "cell_type": "markdown",
      "metadata": {
        "id": "OJXAmkwp4f41"
      },
      "source": [
        "**As you can see the test accuracy reaches more than 98 % for the baseline model.**"
      ]
    },
    {
      "cell_type": "code",
      "metadata": {
        "colab": {
          "base_uri": "https://localhost:8080/"
        },
        "id": "qqr-rhovSsT7",
        "outputId": "2323913e-1e6e-415c-8b20-19c1aa32f3b2"
      },
      "source": [
        "baseline.evaluate(xtest,ytest)"
      ],
      "execution_count": 12,
      "outputs": [
        {
          "output_type": "stream",
          "name": "stdout",
          "text": [
            "313/313 [==============================] - 1s 3ms/step - loss: 0.1376 - accuracy: 0.9838\n"
          ]
        },
        {
          "output_type": "execute_result",
          "data": {
            "text/plain": [
              "[0.13764652609825134, 0.9837999939918518]"
            ]
          },
          "metadata": {},
          "execution_count": 12
        }
      ]
    },
    {
      "cell_type": "markdown",
      "metadata": {
        "id": "ZJL6-9cRUrzz"
      },
      "source": [
        "**SVD Compression**"
      ]
    },
    {
      "cell_type": "code",
      "metadata": {
        "colab": {
          "base_uri": "https://localhost:8080/"
        },
        "id": "WEIlCebIca_5",
        "outputId": "29bc791d-c74f-4486-b2ae-45d9d80d8392"
      },
      "source": [
        "baseline.layers[0].get_weights()"
      ],
      "execution_count": 13,
      "outputs": [
        {
          "output_type": "execute_result",
          "data": {
            "text/plain": [
              "[array([[-0.02895092, -0.07892667, -0.00089907, ...,  0.06180728,\n",
              "          0.03494838, -0.10513128],\n",
              "        [ 0.0217425 , -0.06890235,  0.0348471 , ...,  0.01484497,\n",
              "         -0.08463725,  0.09094539],\n",
              "        [ 0.0014361 ,  0.10810334,  0.03916721, ...,  0.02207753,\n",
              "         -0.07862034,  0.04667902],\n",
              "        ...,\n",
              "        [-0.08907274, -0.05894949, -0.01573536, ...,  0.03072045,\n",
              "          0.01234733, -0.11439596],\n",
              "        [ 0.02453737, -0.00800991,  0.06087303, ..., -0.02026249,\n",
              "          0.00530876, -0.03222203],\n",
              "        [-0.00414001,  0.00804607, -0.01467725, ...,  0.08756254,\n",
              "          0.02153328,  0.01058433]], dtype=float32),\n",
              " array([ 0.11735485,  0.03730431, -0.06338961, ..., -0.0829042 ,\n",
              "        -0.09834838, -0.03987271], dtype=float32)]"
            ]
          },
          "metadata": {},
          "execution_count": 13
        }
      ]
    },
    {
      "cell_type": "markdown",
      "metadata": {
        "id": "7oGNN0XQUzXF"
      },
      "source": [
        "**Saving the weights of each baseline layer**"
      ]
    },
    {
      "cell_type": "code",
      "metadata": {
        "id": "As9jDh9e5HFc"
      },
      "source": [
        "weights_baseline = baseline.get_weights()"
      ],
      "execution_count": 14,
      "outputs": []
    },
    {
      "cell_type": "code",
      "metadata": {
        "colab": {
          "base_uri": "https://localhost:8080/"
        },
        "id": "vfcZt8qu619z",
        "outputId": "d5125f95-d899-4b2a-a659-bb5304dd1245"
      },
      "source": [
        "for i in range(len(weights_baseline)):\n",
        "  print(weights_baseline[i].shape)\n"
      ],
      "execution_count": 15,
      "outputs": [
        {
          "output_type": "stream",
          "name": "stdout",
          "text": [
            "(784, 1024)\n",
            "(1024,)\n",
            "(1024, 1024)\n",
            "(1024,)\n",
            "(1024, 1024)\n",
            "(1024,)\n",
            "(1024, 1024)\n",
            "(1024,)\n",
            "(1024, 1024)\n",
            "(1024,)\n",
            "(1024, 10)\n",
            "(10,)\n"
          ]
        }
      ]
    },
    {
      "cell_type": "markdown",
      "metadata": {
        "id": "iASNuB5dU4Fa"
      },
      "source": [
        "**Creating a custom SVD function which converts the weights for that layer into s,u,v and takes their product to give a weight approx, which we set it for that particular layer along with the baseline bias. We then use these updated compressed weights to find the accuracy for the test size with varying D values**"
      ]
    },
    {
      "cell_type": "code",
      "metadata": {
        "id": "UPNbkVaF6R4V"
      },
      "source": [
        "#ref: https://www.tensorflow.org/api_docs/python/tf/linalg/svd\n",
        "def svd_d(D,weights,baseline):\n",
        "  for i in range(0,len(weights),2):\n",
        "    s, u, v = tf.linalg.svd(weights[i])\n",
        "    s = tf.linalg.diag(s)\n",
        "    tf_weights_approx =  tf.matmul(tf.matmul(u[:,:D], s[:D,:D]), tf.transpose(v[:,:D]))\n",
        "    baseline.layers[i].set_weights([tf_weights_approx,tf.convert_to_tensor(weights[i+1])])\n",
        "\n",
        "  for i in range(1,len(weights),2):\n",
        "    baseline.layers[i].set_weights(baseline.layers[i].get_weights())\n",
        "  \n",
        "  eval = baseline.evaluate(xtest,ytest)\n",
        "  accuracy = eval[1]\n",
        "  return accuracy"
      ],
      "execution_count": 484,
      "outputs": []
    },
    {
      "cell_type": "markdown",
      "metadata": {
        "id": "tey7s_NWVPTM"
      },
      "source": [
        "**Calculating the accuracy values for D= 10,20,50,100,200, Full(784)**"
      ]
    },
    {
      "cell_type": "code",
      "metadata": {
        "colab": {
          "base_uri": "https://localhost:8080/"
        },
        "id": "hP6VEAnYkS49",
        "outputId": "a5c717c3-4664-43ad-8a9b-c6f4a3eab248"
      },
      "source": [
        "svd_d(10,weights_baseline,baseline)"
      ],
      "execution_count": null,
      "outputs": [
        {
          "name": "stdout",
          "output_type": "stream",
          "text": [
            "313/313 [==============================] - 1s 2ms/step - loss: 2.4531 - accuracy: 0.1976\n"
          ]
        },
        {
          "data": {
            "text/plain": [
              "0.19760000705718994"
            ]
          },
          "execution_count": 17,
          "metadata": {},
          "output_type": "execute_result"
        }
      ]
    },
    {
      "cell_type": "code",
      "metadata": {
        "colab": {
          "base_uri": "https://localhost:8080/"
        },
        "id": "uR7CA6_o8FEb",
        "outputId": "762c6a82-c7f1-4794-bc2a-3f250565b2a9"
      },
      "source": [
        "svd_d(20,weights_baseline,baseline)"
      ],
      "execution_count": null,
      "outputs": [
        {
          "name": "stdout",
          "output_type": "stream",
          "text": [
            "313/313 [==============================] - 1s 2ms/step - loss: 0.9839 - accuracy: 0.7867\n"
          ]
        },
        {
          "data": {
            "text/plain": [
              "0.7867000102996826"
            ]
          },
          "execution_count": 18,
          "metadata": {},
          "output_type": "execute_result"
        }
      ]
    },
    {
      "cell_type": "code",
      "metadata": {
        "colab": {
          "base_uri": "https://localhost:8080/"
        },
        "id": "WuJy76rADeLL",
        "outputId": "16013820-91a2-40ff-b867-541e643dfb7e"
      },
      "source": [
        "svd_d(50,weights_baseline,baseline)"
      ],
      "execution_count": null,
      "outputs": [
        {
          "name": "stdout",
          "output_type": "stream",
          "text": [
            "313/313 [==============================] - 1s 2ms/step - loss: 0.1610 - accuracy: 0.9734\n"
          ]
        },
        {
          "data": {
            "text/plain": [
              "0.9733999967575073"
            ]
          },
          "execution_count": 19,
          "metadata": {},
          "output_type": "execute_result"
        }
      ]
    },
    {
      "cell_type": "code",
      "metadata": {
        "colab": {
          "base_uri": "https://localhost:8080/"
        },
        "id": "LPx2p8F0i4q3",
        "outputId": "21406ad1-9a6b-499e-aa70-25fa314adc93"
      },
      "source": [
        "svd_d(100,weights_baseline,baseline)"
      ],
      "execution_count": null,
      "outputs": [
        {
          "name": "stdout",
          "output_type": "stream",
          "text": [
            "313/313 [==============================] - 1s 2ms/step - loss: 0.0971 - accuracy: 0.9796\n"
          ]
        },
        {
          "data": {
            "text/plain": [
              "0.9796000123023987"
            ]
          },
          "execution_count": 20,
          "metadata": {},
          "output_type": "execute_result"
        }
      ]
    },
    {
      "cell_type": "code",
      "metadata": {
        "colab": {
          "base_uri": "https://localhost:8080/"
        },
        "id": "_MafV8-BjXdg",
        "outputId": "0eb02c3b-131e-4329-b556-49f2cb22da65"
      },
      "source": [
        "svd_d(200,weights_baseline,baseline)"
      ],
      "execution_count": null,
      "outputs": [
        {
          "name": "stdout",
          "output_type": "stream",
          "text": [
            "313/313 [==============================] - 1s 2ms/step - loss: 0.1150 - accuracy: 0.9805\n"
          ]
        },
        {
          "data": {
            "text/plain": [
              "0.9804999828338623"
            ]
          },
          "execution_count": 21,
          "metadata": {},
          "output_type": "execute_result"
        }
      ]
    },
    {
      "cell_type": "code",
      "metadata": {
        "colab": {
          "base_uri": "https://localhost:8080/"
        },
        "id": "IOH6fZgTjaMU",
        "outputId": "5624c089-fe96-4115-fd4f-8b49d79b675e"
      },
      "source": [
        "svd_d(784,weights_baseline,baseline)"
      ],
      "execution_count": null,
      "outputs": [
        {
          "name": "stdout",
          "output_type": "stream",
          "text": [
            "313/313 [==============================] - 1s 2ms/step - loss: 0.1524 - accuracy: 0.9812\n"
          ]
        },
        {
          "data": {
            "text/plain": [
              "0.9811999797821045"
            ]
          },
          "execution_count": 22,
          "metadata": {},
          "output_type": "execute_result"
        }
      ]
    },
    {
      "cell_type": "markdown",
      "metadata": {
        "id": "L44iAyBjVY46"
      },
      "source": [
        "**Creating an accuracy list which consists of all the accuracy values for varying D values**"
      ]
    },
    {
      "cell_type": "code",
      "metadata": {
        "colab": {
          "base_uri": "https://localhost:8080/"
        },
        "id": "NCAzFpjHjgMj",
        "outputId": "c20adc4d-91ec-4188-c042-7a855dc47b22"
      },
      "source": [
        "accuracy_list = []\n",
        "for i in [10,20,50,100,200,784]:\n",
        "  accuracy_list.append(svd_d(i,weights_baseline,baseline))"
      ],
      "execution_count": 502,
      "outputs": [
        {
          "output_type": "stream",
          "name": "stdout",
          "text": [
            "313/313 [==============================] - 1s 3ms/step - loss: 2.3264 - accuracy: 0.1289\n",
            "313/313 [==============================] - 1s 3ms/step - loss: 1.2947 - accuracy: 0.5636\n",
            "313/313 [==============================] - 1s 3ms/step - loss: 0.1865 - accuracy: 0.9654\n",
            "313/313 [==============================] - 1s 3ms/step - loss: 0.1250 - accuracy: 0.9772\n",
            "313/313 [==============================] - 1s 3ms/step - loss: 0.1247 - accuracy: 0.9808\n",
            "313/313 [==============================] - 1s 3ms/step - loss: 0.1461 - accuracy: 0.9825\n"
          ]
        }
      ]
    },
    {
      "cell_type": "markdown",
      "metadata": {
        "id": "4MA3499wWU35"
      },
      "source": [
        "Plotting the Accuracy Values for various D Values"
      ]
    },
    {
      "cell_type": "code",
      "metadata": {
        "colab": {
          "base_uri": "https://localhost:8080/",
          "height": 279
        },
        "id": "j_XqGiIfjyh0",
        "outputId": "2d569d54-8901-462f-ea09-1030d61ab5b4"
      },
      "source": [
        "fig, axe = plt.subplots()\n",
        "axe.plot(accuracy_list)\n",
        "axe.set_ylabel(\"Accuracy\")\n",
        "axe.set_xlabel(\"Value of D\")\n",
        "d_value = [10,20, 50, 100, 200, 'full']\n",
        "axe.set_xticklabels(d_value)\n",
        "plt.show()"
      ],
      "execution_count": 503,
      "outputs": [
        {
          "output_type": "display_data",
          "data": {
            "image/png": "[encoded data removed]",
            "text/plain": [
              "<Figure size 432x288 with 1 Axes>"
            ]
          },
          "metadata": {
            "needs_background": "light"
          }
        }
      ]
    },
    {
      "cell_type": "markdown",
      "metadata": {
        "id": "fo0w2DJoNopo"
      },
      "source": [
        "## **Part 2**"
      ]
    },
    {
      "cell_type": "markdown",
      "metadata": {
        "id": "8Wa5kyG_Wctd"
      },
      "source": [
        "Creating the model architecture"
      ]
    },
    {
      "cell_type": "code",
      "metadata": {
        "id": "W1EUyqBGkDKR"
      },
      "source": [
        "initializer = tf.keras.initializers.HeNormal()\n",
        "model1 = Sequential()\n",
        "model1.add(Dense(1024, input_dim=784,kernel_initializer=initializer))\n",
        "model1.add(Activation('relu'))\n",
        "model1.add(Dense(1024,kernel_initializer=initializer))\n",
        "model1.add(Activation('relu'))\n",
        "model1.add(Dense(1024,kernel_initializer=initializer))\n",
        "model1.add(Activation('relu'))\n",
        "model1.add(Dense(1024,kernel_initializer=initializer))\n",
        "model1.add(Activation('relu'))\n",
        "model1.add(Dense(1024,kernel_initializer=initializer))\n",
        "model1.add(Activation('relu'))\n",
        "model1.add(Dense(10))\n",
        "model1.add(Activation('softmax'))"
      ],
      "execution_count": null,
      "outputs": []
    },
    {
      "cell_type": "code",
      "metadata": {
        "colab": {
          "base_uri": "https://localhost:8080/"
        },
        "id": "WJ_wWRDUOFT1",
        "outputId": "6548a2b1-9091-4b8f-d221-67806b1ed7ad"
      },
      "source": [
        "model1.summary()"
      ],
      "execution_count": null,
      "outputs": [
        {
          "name": "stdout",
          "output_type": "stream",
          "text": [
            "Model: \"sequential_1\"\n",
            "_________________________________________________________________\n",
            " Layer (type)                Output Shape              Param #   \n",
            "=================================================================\n",
            " dense_6 (Dense)             (None, 1024)              803840    \n",
            "                                                                 \n",
            " activation_6 (Activation)   (None, 1024)              0         \n",
            "                                                                 \n",
            " dense_7 (Dense)             (None, 1024)              1049600   \n",
            "                                                                 \n",
            " activation_7 (Activation)   (None, 1024)              0         \n",
            "                                                                 \n",
            " dense_8 (Dense)             (None, 1024)              1049600   \n",
            "                                                                 \n",
            " activation_8 (Activation)   (None, 1024)              0         \n",
            "                                                                 \n",
            " dense_9 (Dense)             (None, 1024)              1049600   \n",
            "                                                                 \n",
            " activation_9 (Activation)   (None, 1024)              0         \n",
            "                                                                 \n",
            " dense_10 (Dense)            (None, 1024)              1049600   \n",
            "                                                                 \n",
            " activation_10 (Activation)  (None, 1024)              0         \n",
            "                                                                 \n",
            " dense_11 (Dense)            (None, 10)                10250     \n",
            "                                                                 \n",
            " activation_11 (Activation)  (None, 10)                0         \n",
            "                                                                 \n",
            "=================================================================\n",
            "Total params: 5,012,490\n",
            "Trainable params: 5,012,490\n",
            "Non-trainable params: 0\n",
            "_________________________________________________________________\n"
          ]
        }
      ]
    },
    {
      "cell_type": "markdown",
      "metadata": {
        "id": "gS6q5adbWmul"
      },
      "source": [
        "**Here we initialize the weights of the above model1 to baseline svd weights with D=20 and we keep the bias as zero.**"
      ]
    },
    {
      "cell_type": "code",
      "metadata": {
        "id": "stpAu5FmOa1y"
      },
      "source": [
        "#ref: https://www.tensorflow.org/api_docs/python/tf/linalg/svd\n",
        "\n",
        "for i in range(0,len(weights),2):\n",
        "    s, u, v = tf.linalg.svd(weights[i])\n",
        "    s = tf.linalg.diag(s)\n",
        "    tf_weights_approx =  tf.matmul(tf.matmul(u[:,:20], s[:20,:20]), tf.transpose(v[:,:20]))\n",
        "    if i == 10:\n",
        "      model1.layers[i].set_weights([tf_weights_approx,tf.zeros([10,], dtype=tf.float32, name = None)])\n",
        "    else:\n",
        "      model1.layers[i].set_weights([tf_weights_approx,tf.zeros([1024,], dtype=tf.float32, name = None)])\n"
      ],
      "execution_count": null,
      "outputs": []
    },
    {
      "cell_type": "markdown",
      "metadata": {
        "id": "857UN6j7W40p"
      },
      "source": [
        "**Compliling and running the model1 with the weights initialized as svd weights, after every epoch we get better results as compared to the normal output without back propogation.**"
      ]
    },
    {
      "cell_type": "code",
      "metadata": {
        "id": "iN0sDECUOFT3"
      },
      "source": [
        "model1.compile(optimizer=tf.keras.optimizers.Adam(learning_rate=0.00001),loss='sparse_categorical_crossentropy',metrics=['accuracy'])"
      ],
      "execution_count": null,
      "outputs": []
    },
    {
      "cell_type": "code",
      "metadata": {
        "colab": {
          "base_uri": "https://localhost:8080/"
        },
        "id": "1o7-G9-vOFT3",
        "outputId": "a8589cc5-eeb0-4570-d9eb-400a59ea099d"
      },
      "source": [
        "model1.fit(xtrain,ytrain,epochs=15)"
      ],
      "execution_count": null,
      "outputs": [
        {
          "name": "stdout",
          "output_type": "stream",
          "text": [
            "Epoch 1/15\n",
            "1875/1875 [==============================] - 5s 2ms/step - loss: 0.4421 - accuracy: 0.9425\n",
            "Epoch 2/15\n",
            "1875/1875 [==============================] - 4s 2ms/step - loss: 0.1628 - accuracy: 0.9637\n",
            "Epoch 3/15\n",
            "1875/1875 [==============================] - 4s 2ms/step - loss: 0.1304 - accuracy: 0.9684\n",
            "Epoch 4/15\n",
            "1875/1875 [==============================] - 4s 2ms/step - loss: 0.1130 - accuracy: 0.9715\n",
            "Epoch 5/15\n",
            "1875/1875 [==============================] - 4s 2ms/step - loss: 0.1007 - accuracy: 0.9736\n",
            "Epoch 6/15\n",
            "1875/1875 [==============================] - 4s 2ms/step - loss: 0.0913 - accuracy: 0.9751\n",
            "Epoch 7/15\n",
            "1875/1875 [==============================] - 4s 2ms/step - loss: 0.0838 - accuracy: 0.9766\n",
            "Epoch 8/15\n",
            "1875/1875 [==============================] - 4s 2ms/step - loss: 0.0774 - accuracy: 0.9780\n",
            "Epoch 9/15\n",
            "1875/1875 [==============================] - 4s 2ms/step - loss: 0.0722 - accuracy: 0.9789\n",
            "Epoch 10/15\n",
            "1875/1875 [==============================] - 4s 2ms/step - loss: 0.0677 - accuracy: 0.9799\n",
            "Epoch 11/15\n",
            "1875/1875 [==============================] - 4s 2ms/step - loss: 0.0637 - accuracy: 0.9807\n",
            "Epoch 12/15\n",
            "1875/1875 [==============================] - 4s 2ms/step - loss: 0.0601 - accuracy: 0.9811\n",
            "Epoch 13/15\n",
            "1875/1875 [==============================] - 4s 2ms/step - loss: 0.0569 - accuracy: 0.9821\n",
            "Epoch 14/15\n",
            "1875/1875 [==============================] - 4s 2ms/step - loss: 0.0540 - accuracy: 0.9830\n",
            "Epoch 15/15\n",
            "1875/1875 [==============================] - 4s 2ms/step - loss: 0.0513 - accuracy: 0.9834\n"
          ]
        },
        {
          "data": {
            "text/plain": [
              "<keras.callbacks.History at 0x7f524677e1d0>"
            ]
          },
          "execution_count": 29,
          "metadata": {},
          "output_type": "execute_result"
        }
      ]
    },
    {
      "cell_type": "markdown",
      "metadata": {
        "id": "PS5JjgZXXSI4"
      },
      "source": [
        "**Test accuracy for model1**"
      ]
    },
    {
      "cell_type": "code",
      "metadata": {
        "colab": {
          "base_uri": "https://localhost:8080/"
        },
        "id": "7dBUR0OuOFT4",
        "outputId": "3785746c-9804-49cb-a612-7f26d3bbab21"
      },
      "source": [
        "model1.evaluate(xtest,ytest)"
      ],
      "execution_count": null,
      "outputs": [
        {
          "name": "stdout",
          "output_type": "stream",
          "text": [
            "313/313 [==============================] - 1s 2ms/step - loss: 0.1253 - accuracy: 0.9764\n"
          ]
        },
        {
          "data": {
            "text/plain": [
              "[0.12531572580337524, 0.9764000177383423]"
            ]
          },
          "execution_count": 30,
          "metadata": {},
          "output_type": "execute_result"
        }
      ]
    },
    {
      "cell_type": "markdown",
      "metadata": {
        "id": "Awjkdv2DeSsp"
      },
      "source": [
        "## **Part 3**"
      ]
    },
    {
      "cell_type": "markdown",
      "metadata": {
        "id": "ejH2G8cwXXdj"
      },
      "source": [
        "**In this we basically add a custom layer which compressed the weight matrix into a product of s,u and v with D as 20. Thus, each layer will convert the weights into a compressed version weights and we will use that for [inputs x svd(weights) + bias] calculation. Also, here since the gradient for compression is considered as identity function, we modify the gradient by calling the custom gradient function.**"
      ]
    },
    {
      "cell_type": "code",
      "metadata": {
        "id": "iwtFm9pbPWIs"
      },
      "source": [
        "#ref: https://www.tensorflow.org/guide/keras/custom_layers_and_models, https://www.tensorflow.org/api_docs/python/tf/custom_gradient\n",
        "@tf.custom_gradient\n",
        "def customize_function(weight):\n",
        "    s, u, v = tf.linalg.svd(weight)\n",
        "    s = tf.linalg.diag(s)\n",
        "    W_hat =  tf.matmul(tf.matmul(u[:,:20], s[:20,:20]), tf.transpose(v[:,:20]))\n",
        "    def grad(dy):\n",
        "        gradient = dy\n",
        "        return gradient\n",
        "    return W_hat, grad\n",
        "\n",
        "class Dense_New(Layer):\n",
        "\n",
        "  def __init__(self, units,activation,weights,input_shape):\n",
        "      super(Dense_New, self).__init__()\n",
        "      self.units = units\n",
        "      self.activation = tf.keras.activations.get(activation)\n",
        "      w_init = weights\n",
        "      self.w = tf.Variable(\n",
        "          initial_value=w_init,trainable=True)\n",
        "      b_init = tf.zeros_initializer()\n",
        "      self.b = tf.Variable(\n",
        "          initial_value=b_init(shape=(units,), dtype='float32'),trainable=True)\n",
        "\n",
        "  def call(self, inputs):  # Defines the computation from inputs to outputs\n",
        "      W_hat = customize_function(self.w)\n",
        "      result = self.activation(tf.matmul(inputs, W_hat) + self.b)\n",
        "      return result\n",
        "\n"
      ],
      "execution_count": 3,
      "outputs": []
    },
    {
      "cell_type": "markdown",
      "metadata": {
        "id": "RgQeNtxIYdP7"
      },
      "source": [
        "**Creating the model architecture along with the custom layer defined above and weights intitalized from the baseline model.**"
      ]
    },
    {
      "cell_type": "code",
      "metadata": {
        "id": "MUF-42oY8jxd"
      },
      "source": [
        "\n",
        "model2 = tf.keras.models.Sequential([\n",
        "    tf.keras.layers.Flatten(input_shape=(784,)),\n",
        "    Dense_New(1024, activation='relu',weights=weights_baseline[0],input_shape=784),\n",
        "    Dense_New(1024, activation='relu',weights=weights_baseline[2],input_shape=1024),\n",
        "    Dense_New(1024, activation='relu',weights=weights_baseline[4],input_shape=1024),\n",
        "    Dense_New(1024, activation='relu',weights=weights_baseline[6],input_shape=1024),\n",
        "    Dense_New(1024, activation='relu',weights=weights_baseline[8],input_shape=1024),\n",
        "    tf.keras.layers.Dense(10, activation='softmax')\n",
        "])"
      ],
      "execution_count": 16,
      "outputs": []
    },
    {
      "cell_type": "markdown",
      "metadata": {
        "id": "7tRfWgYDYpDd"
      },
      "source": [
        "**Compiling and running the model for the above model**"
      ]
    },
    {
      "cell_type": "code",
      "metadata": {
        "id": "MPNKHIys_c4D"
      },
      "source": [
        "model2.compile(optimizer=tf.keras.optimizers.Adam(learning_rate=0.001),loss='sparse_categorical_crossentropy',metrics=['accuracy'])"
      ],
      "execution_count": 17,
      "outputs": []
    },
    {
      "cell_type": "code",
      "metadata": {
        "colab": {
          "base_uri": "https://localhost:8080/"
        },
        "id": "XZKTkYD7JRob",
        "outputId": "78254b97-cc80-462b-dbcb-beac9c10924e"
      },
      "source": [
        "model2.fit(xtrain,ytrain,epochs=15,batch_size=512)"
      ],
      "execution_count": 18,
      "outputs": [
        {
          "output_type": "stream",
          "name": "stdout",
          "text": [
            "Epoch 1/15\n",
            "118/118 [==============================] - 183s 2s/step - loss: 0.4937 - accuracy: 0.8855\n",
            "Epoch 2/15\n",
            "118/118 [==============================] - 178s 2s/step - loss: 0.0857 - accuracy: 0.9779\n",
            "Epoch 3/15\n",
            "118/118 [==============================] - 178s 2s/step - loss: 0.0671 - accuracy: 0.9808\n",
            "Epoch 4/15\n",
            "118/118 [==============================] - 178s 2s/step - loss: 0.0567 - accuracy: 0.9835\n",
            "Epoch 5/15\n",
            "118/118 [==============================] - 178s 2s/step - loss: 0.0529 - accuracy: 0.9840\n",
            "Epoch 6/15\n",
            "118/118 [==============================] - 177s 2s/step - loss: 0.0474 - accuracy: 0.9856\n",
            "Epoch 7/15\n",
            "118/118 [==============================] - 178s 2s/step - loss: 0.0474 - accuracy: 0.9854\n",
            "Epoch 8/15\n",
            "118/118 [==============================] - 177s 2s/step - loss: 0.0414 - accuracy: 0.9870\n",
            "Epoch 9/15\n",
            "118/118 [==============================] - 178s 2s/step - loss: 0.0431 - accuracy: 0.9868\n",
            "Epoch 10/15\n",
            "118/118 [==============================] - 177s 2s/step - loss: 0.0410 - accuracy: 0.9873\n",
            "Epoch 11/15\n",
            "118/118 [==============================] - 177s 2s/step - loss: 0.0389 - accuracy: 0.9873\n",
            "Epoch 12/15\n",
            "118/118 [==============================] - 177s 2s/step - loss: 0.0369 - accuracy: 0.9882\n",
            "Epoch 13/15\n",
            "118/118 [==============================] - 177s 2s/step - loss: 0.0395 - accuracy: 0.9876\n",
            "Epoch 14/15\n",
            "118/118 [==============================] - 177s 2s/step - loss: 0.0374 - accuracy: 0.9878\n",
            "Epoch 15/15\n",
            "118/118 [==============================] - 177s 1s/step - loss: 0.0364 - accuracy: 0.9880\n"
          ]
        },
        {
          "output_type": "execute_result",
          "data": {
            "text/plain": [
              "<keras.callbacks.History at 0x7f7ac025f090>"
            ]
          },
          "metadata": {},
          "execution_count": 18
        }
      ]
    },
    {
      "cell_type": "markdown",
      "metadata": {
        "id": "mGL9-Uh8Yt-9"
      },
      "source": [
        "**Checking the test accuracy for the above model**"
      ]
    },
    {
      "cell_type": "code",
      "metadata": {
        "colab": {
          "base_uri": "https://localhost:8080/"
        },
        "id": "JDmXaHZ0JUzk",
        "outputId": "c94eff10-534b-479b-a48c-720d72b775d1"
      },
      "source": [
        "model2.evaluate(xtest,ytest,batch_size=64)"
      ],
      "execution_count": 20,
      "outputs": [
        {
          "output_type": "stream",
          "name": "stdout",
          "text": [
            "157/157 [==============================] - 237s 2s/step - loss: 0.1055 - accuracy: 0.9745\n"
          ]
        },
        {
          "output_type": "execute_result",
          "data": {
            "text/plain": [
              "[0.10545135289430618, 0.9745000004768372]"
            ]
          },
          "metadata": {},
          "execution_count": 20
        }
      ]
    },
    {
      "cell_type": "markdown",
      "metadata": {
        "id": "A1Rx8pZDhlCW"
      },
      "source": [
        "## Part 4"
      ]
    },
    {
      "cell_type": "markdown",
      "metadata": {
        "id": "9N93m8ufkuKT"
      },
      "source": [
        "**Loading the training and the test data**"
      ]
    },
    {
      "cell_type": "code",
      "metadata": {
        "colab": {
          "base_uri": "https://localhost:8080/"
        },
        "id": "PNDtrPaFgaUt",
        "outputId": "50be12f0-a00b-4a72-a8a9-6956ba0fd1e8"
      },
      "source": [
        "with open('hw4_trs.pkl','rb') as train_file:\n",
        "  train_df = pickle.load(train_file)\n",
        "train_df.shape"
      ],
      "execution_count": 369,
      "outputs": [
        {
          "output_type": "execute_result",
          "data": {
            "text/plain": [
              "(500, 16180)"
            ]
          },
          "metadata": {},
          "execution_count": 369
        }
      ]
    },
    {
      "cell_type": "code",
      "metadata": {
        "colab": {
          "base_uri": "https://localhost:8080/"
        },
        "id": "RShsPXhei7iL",
        "outputId": "cb17c6fd-cb45-4930-fc72-af21e71847c5"
      },
      "source": [
        "with open('hw4_tes.pkl','rb') as test_file:\n",
        "  test_df = pickle.load(test_file)\n",
        "test_df.shape"
      ],
      "execution_count": 370,
      "outputs": [
        {
          "output_type": "execute_result",
          "data": {
            "text/plain": [
              "(200, 22631)"
            ]
          },
          "metadata": {},
          "execution_count": 370
        }
      ]
    },
    {
      "cell_type": "markdown",
      "metadata": {
        "id": "CbmyS-8tk7g2"
      },
      "source": [
        "**Making Negative Pair Samples**"
      ]
    },
    {
      "cell_type": "code",
      "metadata": {
        "id": "Ynbll_QfkslA"
      },
      "source": [
        "def negative_pairs(positive_speaker_n, df, L=45):    \n",
        "    i = positive_speaker_n *10\n",
        "    j = i + 10  \n",
        "    negative_speaker = df[:i] + df[j:]   \n",
        "    positve_speaker = df[i:j]\n",
        "    negative_samp = random.sample(negative_speaker, L)\n",
        "    batch_pairs = []\n",
        "        \n",
        "\n",
        "    for x in range(L):\n",
        "        positive_samp = random.choice(positve_speaker)\n",
        "        stftp = np.abs(librosa.stft(positive_samp, n_fft=1024, hop_length=512)).T\n",
        "        stftn = np.abs(librosa.stft(negative_samp[x], n_fft=1024, hop_length=512)).T\n",
        "        batch_pairs.append([stftp, stftn])\n",
        "\n",
        "\n",
        "    return batch_pairs"
      ],
      "execution_count": 371,
      "outputs": []
    },
    {
      "cell_type": "markdown",
      "metadata": {
        "id": "CtrSJ7LOk2Z1"
      },
      "source": [
        "**Making Postive Pair Samples**"
      ]
    },
    {
      "cell_type": "code",
      "metadata": {
        "id": "wmzyQ7REkED4"
      },
      "source": [
        "def positive_pairs(sp, L=45):\n",
        "    total_pairs = list(combinations(range(10), 2))\n",
        "    batch_pairs = []\n",
        "    lis_pairs = random.sample(total_pairs, L)\n",
        "\n",
        "\n",
        "    for x,y in lis_pairs:\n",
        "        stft2 = np.abs(librosa.stft(sp[y], n_fft=1024, hop_length=512)).T\n",
        "        stft1 = np.abs(librosa.stft(sp[x], n_fft=1024, hop_length=512)).T\n",
        "        batch_pairs.append([stft1, stft2])\n",
        "\n",
        "        \n",
        "    return batch_pairs"
      ],
      "execution_count": 372,
      "outputs": []
    },
    {
      "cell_type": "markdown",
      "metadata": {
        "id": "rOHx3sdn5sCO"
      },
      "source": [
        "**Making Training Batch Pairs**"
      ]
    },
    {
      "cell_type": "code",
      "metadata": {
        "colab": {
          "base_uri": "https://localhost:8080/"
        },
        "id": "oGMBTtYKnqqa",
        "outputId": "496c0573-745c-4b83-e1ce-8de64b084fdf"
      },
      "source": [
        "batches_train = []\n",
        "train_df = list(train_df)\n",
        "\n",
        "for x in range(0,50):\n",
        "  positive_bat = positive_pairs(train_df[x:x+10])\n",
        "  negative_bat = negative_pairs(x,train_df)\n",
        "  batches_train = batches_train + positive_bat + negative_bat\n",
        "\n",
        "train_set = np.stack(batches_train)\n",
        "train_set.shape"
      ],
      "execution_count": 381,
      "outputs": [
        {
          "output_type": "execute_result",
          "data": {
            "text/plain": [
              "(4500, 2, 32, 513)"
            ]
          },
          "metadata": {},
          "execution_count": 381
        }
      ]
    },
    {
      "cell_type": "code",
      "metadata": {
        "colab": {
          "base_uri": "https://localhost:8080/"
        },
        "id": "Oe37S_9wFv8U",
        "outputId": "78e937b5-85e0-45c9-b3d3-b77cc2dc9538"
      },
      "source": [
        "train_set[:,0].shape"
      ],
      "execution_count": 382,
      "outputs": [
        {
          "output_type": "execute_result",
          "data": {
            "text/plain": [
              "(4500, 32, 513)"
            ]
          },
          "metadata": {},
          "execution_count": 382
        }
      ]
    },
    {
      "cell_type": "markdown",
      "metadata": {
        "id": "m0kxWJt06wnv"
      },
      "source": [
        "**Adding padding to make the shape similar to test**"
      ]
    },
    {
      "cell_type": "code",
      "metadata": {
        "colab": {
          "base_uri": "https://localhost:8080/"
        },
        "id": "tqwfEg1L6YRW",
        "outputId": "13f690a0-a02b-40f1-b738-bf0779f4b4cc"
      },
      "source": [
        "train_set = np.pad(train_set, ((0,0), (0,0), (0, 13), (0,0)), mode = 'constant') \n",
        "train_set.shape"
      ],
      "execution_count": 383,
      "outputs": [
        {
          "output_type": "execute_result",
          "data": {
            "text/plain": [
              "(4500, 2, 45, 513)"
            ]
          },
          "metadata": {},
          "execution_count": 383
        }
      ]
    },
    {
      "cell_type": "markdown",
      "metadata": {
        "id": "tY7JqJQg7fC0"
      },
      "source": [
        "**Making Testing Batch Pairs**"
      ]
    },
    {
      "cell_type": "code",
      "metadata": {
        "colab": {
          "base_uri": "https://localhost:8080/"
        },
        "id": "lbPxJ1tK69n_",
        "outputId": "a65a4730-3cfb-4d1b-f29d-cc640fad2c06"
      },
      "source": [
        "batches_test = []\n",
        "test_df = list(test_df)\n",
        "\n",
        "for x in range(0,20):\n",
        "  positive_bat = positive_pairs(test_df[x:x+10])\n",
        "  negative_bat = negative_pairs(x,test_df)\n",
        "  batches_test = batches_test + positive_bat + negative_bat\n",
        "\n",
        "test_set = np.stack(batches_test)\n",
        "test_set.shape"
      ],
      "execution_count": 384,
      "outputs": [
        {
          "output_type": "execute_result",
          "data": {
            "text/plain": [
              "(1800, 2, 45, 513)"
            ]
          },
          "metadata": {},
          "execution_count": 384
        }
      ]
    },
    {
      "cell_type": "markdown",
      "metadata": {
        "id": "vVkFDIhcUUYu"
      },
      "source": [
        "**Creating Actual Predictions for the positive/negative pairs**"
      ]
    },
    {
      "cell_type": "code",
      "metadata": {
        "id": "52koZPIIUVwu"
      },
      "source": [
        "target_train = [] \n",
        "for i in range(50):\n",
        "    yact = np.zeros(90, dtype = int)\n",
        "    yact[:45] += 1\n",
        "    target_train.append(yact)\n",
        "target_train = np.hstack(target_train)"
      ],
      "execution_count": 385,
      "outputs": []
    },
    {
      "cell_type": "code",
      "metadata": {
        "id": "0MtPmbTuVGO-"
      },
      "source": [
        "target_test = [] \n",
        "for i in range(20):\n",
        "    yact = np.zeros(90, dtype = int)\n",
        "    yact[:45] += 1\n",
        "    target_test.append(yact)\n",
        "target_test = np.hstack(target_test)"
      ],
      "execution_count": 386,
      "outputs": []
    },
    {
      "cell_type": "markdown",
      "metadata": {
        "id": "KnAC_9IW81ON"
      },
      "source": [
        "**Creating the Siamese Model Architecture and Compiling the model**"
      ]
    },
    {
      "cell_type": "markdown",
      "metadata": {
        "id": "xzBd-bcMuWPL"
      },
      "source": [
        "Initially we create a GRU with one dense layer, then use two embeddings postive and negative samples and pass them as two inputs with the output as the multiplicate product of the two passed over a sigmoid activated dense layer."
      ]
    },
    {
      "cell_type": "code",
      "metadata": {
        "id": "eiRTHfg08yd9"
      },
      "source": [
        "#Ref: https://keras.io/examples/vision/siamese_network/\n",
        "def siamese_model(input_shape):\n",
        "    model3 = Sequential()\n",
        "    model3.add(GRU(100, return_sequences = False,activation='tanh'))\n",
        "    model3.add(Dense(30, activation = 'tanh'))\n",
        "\n",
        "    postive_in = Input(input_shape)\n",
        "    negative_in = Input(input_shape)\n",
        "    postive_out = model3(postive_in)\n",
        "    negative_out = model3(negative_in)\n",
        "\n",
        "    pred = tf.multiply(postive_out, negative_out)\n",
        "    #pred = tf.reshape(pred,[-1,1])\n",
        "    pred_f = Dense(1,activation='sigmoid')(pred)\n",
        "\n",
        "\n",
        "    siamese = Model(inputs = [postive_in,negative_in], outputs = pred_f)\n",
        "    return siamese"
      ],
      "execution_count": 455,
      "outputs": []
    },
    {
      "cell_type": "code",
      "metadata": {
        "id": "08xfYOkB-KJm"
      },
      "source": [
        "final_model = siamese_model([None,513])"
      ],
      "execution_count": 456,
      "outputs": []
    },
    {
      "cell_type": "markdown",
      "metadata": {
        "id": "IdNC90syY6gy"
      },
      "source": [
        "**Here the loss will be binary cross entropy or sigmoid cross entropy**"
      ]
    },
    {
      "cell_type": "code",
      "metadata": {
        "id": "vsn2hyWdXm16"
      },
      "source": [
        "bce = tf.keras.losses.BinaryCrossentropy()"
      ],
      "execution_count": 457,
      "outputs": []
    },
    {
      "cell_type": "code",
      "metadata": {
        "colab": {
          "base_uri": "https://localhost:8080/"
        },
        "id": "YcZJt2MuTsxO",
        "outputId": "c5f61340-59b3-4d8d-a5e7-5769c4adb79d"
      },
      "source": [
        "final_model.summary()"
      ],
      "execution_count": 453,
      "outputs": [
        {
          "output_type": "stream",
          "name": "stdout",
          "text": [
            "Model: \"model_62\"\n",
            "__________________________________________________________________________________________________\n",
            " Layer (type)                   Output Shape         Param #     Connected to                     \n",
            "==================================================================================================\n",
            " input_132 (InputLayer)         [(None, None, 513)]  0           []                               \n",
            "                                                                                                  \n",
            " input_133 (InputLayer)         [(None, None, 513)]  0           []                               \n",
            "                                                                                                  \n",
            " sequential_61 (Sequential)     (None, 30)           187530      ['input_132[0][0]',              \n",
            "                                                                  'input_133[0][0]']              \n",
            "                                                                                                  \n",
            " tf.math.multiply_61 (TFOpLambd  (None, 30)          0           ['sequential_61[0][0]',          \n",
            " a)                                                               'sequential_61[1][0]']          \n",
            "                                                                                                  \n",
            " dense_133 (Dense)              (None, 1)            31          ['tf.math.multiply_61[0][0]']    \n",
            "                                                                                                  \n",
            "==================================================================================================\n",
            "Total params: 187,561\n",
            "Trainable params: 187,561\n",
            "Non-trainable params: 0\n",
            "__________________________________________________________________________________________________\n"
          ]
        }
      ]
    },
    {
      "cell_type": "markdown",
      "metadata": {
        "id": "c2YG9u5kZGtK"
      },
      "source": [
        "**Compiling and running the above siamese model**"
      ]
    },
    {
      "cell_type": "code",
      "metadata": {
        "id": "PaEwuzS1-p8E"
      },
      "source": [
        "final_model.compile(optimizer=tf.keras.optimizers.Adam(0.001),loss=bce,metrics=[BinaryAccuracy()])"
      ],
      "execution_count": 458,
      "outputs": []
    },
    {
      "cell_type": "code",
      "metadata": {
        "colab": {
          "base_uri": "https://localhost:8080/"
        },
        "id": "3DGI1uaMTyKX",
        "outputId": "62b65506-ba51-420a-8e09-aab247fb63e5"
      },
      "source": [
        "final_model.fit([train_set[:, 0], train_set[:, 1]], target_train, batch_size=32, epochs=50)"
      ],
      "execution_count": 459,
      "outputs": [
        {
          "output_type": "stream",
          "name": "stdout",
          "text": [
            "Epoch 1/50\n",
            "141/141 [==============================] - 5s 10ms/step - loss: 0.5128 - binary_accuracy: 0.7129\n",
            "Epoch 2/50\n",
            "141/141 [==============================] - 1s 10ms/step - loss: 0.1708 - binary_accuracy: 0.9527\n",
            "Epoch 3/50\n",
            "141/141 [==============================] - 1s 10ms/step - loss: 0.1138 - binary_accuracy: 0.9667\n",
            "Epoch 4/50\n",
            "141/141 [==============================] - 1s 10ms/step - loss: 0.0681 - binary_accuracy: 0.9856\n",
            "Epoch 5/50\n",
            "141/141 [==============================] - 1s 10ms/step - loss: 0.0543 - binary_accuracy: 0.9893\n",
            "Epoch 6/50\n",
            "141/141 [==============================] - 1s 10ms/step - loss: 0.0628 - binary_accuracy: 0.9858\n",
            "Epoch 7/50\n",
            "141/141 [==============================] - 1s 10ms/step - loss: 0.0510 - binary_accuracy: 0.9893\n",
            "Epoch 8/50\n",
            "141/141 [==============================] - 1s 10ms/step - loss: 0.0356 - binary_accuracy: 0.9938\n",
            "Epoch 9/50\n",
            "141/141 [==============================] - 1s 10ms/step - loss: 0.0349 - binary_accuracy: 0.9938\n",
            "Epoch 10/50\n",
            "141/141 [==============================] - 1s 10ms/step - loss: 0.0689 - binary_accuracy: 0.9836\n",
            "Epoch 11/50\n",
            "141/141 [==============================] - 1s 10ms/step - loss: 0.0396 - binary_accuracy: 0.9929\n",
            "Epoch 12/50\n",
            "141/141 [==============================] - 1s 10ms/step - loss: 0.0346 - binary_accuracy: 0.9938\n",
            "Epoch 13/50\n",
            "141/141 [==============================] - 1s 11ms/step - loss: 0.0337 - binary_accuracy: 0.9938\n",
            "Epoch 14/50\n",
            "141/141 [==============================] - 1s 10ms/step - loss: 0.0340 - binary_accuracy: 0.9938\n",
            "Epoch 15/50\n",
            "141/141 [==============================] - 1s 10ms/step - loss: 0.0329 - binary_accuracy: 0.9938\n",
            "Epoch 16/50\n",
            "141/141 [==============================] - 1s 10ms/step - loss: 0.0330 - binary_accuracy: 0.9938\n",
            "Epoch 17/50\n",
            "141/141 [==============================] - 1s 10ms/step - loss: 0.0319 - binary_accuracy: 0.9938\n",
            "Epoch 18/50\n",
            "141/141 [==============================] - 1s 10ms/step - loss: 0.0324 - binary_accuracy: 0.9936\n",
            "Epoch 19/50\n",
            "141/141 [==============================] - 1s 10ms/step - loss: 0.0312 - binary_accuracy: 0.9938\n",
            "Epoch 20/50\n",
            "141/141 [==============================] - 1s 10ms/step - loss: 0.0299 - binary_accuracy: 0.9938\n",
            "Epoch 21/50\n",
            "141/141 [==============================] - 1s 10ms/step - loss: 0.0292 - binary_accuracy: 0.9938\n",
            "Epoch 22/50\n",
            "141/141 [==============================] - 1s 10ms/step - loss: 0.0277 - binary_accuracy: 0.9938\n",
            "Epoch 23/50\n",
            "141/141 [==============================] - 1s 10ms/step - loss: 0.0280 - binary_accuracy: 0.9938\n",
            "Epoch 24/50\n",
            "141/141 [==============================] - 1s 10ms/step - loss: 0.0265 - binary_accuracy: 0.9938\n",
            "Epoch 25/50\n",
            "141/141 [==============================] - 1s 10ms/step - loss: 0.0244 - binary_accuracy: 0.9938\n",
            "Epoch 26/50\n",
            "141/141 [==============================] - 1s 10ms/step - loss: 0.0706 - binary_accuracy: 0.9800\n",
            "Epoch 27/50\n",
            "141/141 [==============================] - 1s 10ms/step - loss: 0.0330 - binary_accuracy: 0.9924\n",
            "Epoch 28/50\n",
            "141/141 [==============================] - 1s 10ms/step - loss: 0.0589 - binary_accuracy: 0.9851\n",
            "Epoch 29/50\n",
            "141/141 [==============================] - 1s 10ms/step - loss: 0.0255 - binary_accuracy: 0.9940\n",
            "Epoch 30/50\n",
            "141/141 [==============================] - 1s 10ms/step - loss: 0.0236 - binary_accuracy: 0.9944\n",
            "Epoch 31/50\n",
            "141/141 [==============================] - 1s 10ms/step - loss: 0.0220 - binary_accuracy: 0.9944\n",
            "Epoch 32/50\n",
            "141/141 [==============================] - 1s 10ms/step - loss: 0.0221 - binary_accuracy: 0.9947\n",
            "Epoch 33/50\n",
            "141/141 [==============================] - 1s 10ms/step - loss: 0.0212 - binary_accuracy: 0.9949\n",
            "Epoch 34/50\n",
            "141/141 [==============================] - 1s 10ms/step - loss: 0.0191 - binary_accuracy: 0.9949\n",
            "Epoch 35/50\n",
            "141/141 [==============================] - 1s 10ms/step - loss: 0.0556 - binary_accuracy: 0.9829\n",
            "Epoch 36/50\n",
            "141/141 [==============================] - 1s 10ms/step - loss: 0.0408 - binary_accuracy: 0.9913\n",
            "Epoch 37/50\n",
            "141/141 [==============================] - 1s 10ms/step - loss: 0.0328 - binary_accuracy: 0.9924\n",
            "Epoch 38/50\n",
            "141/141 [==============================] - 1s 10ms/step - loss: 0.0243 - binary_accuracy: 0.9942\n",
            "Epoch 39/50\n",
            "141/141 [==============================] - 1s 10ms/step - loss: 0.0229 - binary_accuracy: 0.9944\n",
            "Epoch 40/50\n",
            "141/141 [==============================] - 1s 10ms/step - loss: 0.0212 - binary_accuracy: 0.9942\n",
            "Epoch 41/50\n",
            "141/141 [==============================] - 1s 10ms/step - loss: 0.0199 - binary_accuracy: 0.9949\n",
            "Epoch 42/50\n",
            "141/141 [==============================] - 1s 10ms/step - loss: 0.0189 - binary_accuracy: 0.9947\n",
            "Epoch 43/50\n",
            "141/141 [==============================] - 1s 10ms/step - loss: 0.0239 - binary_accuracy: 0.9929\n",
            "Epoch 44/50\n",
            "141/141 [==============================] - 1s 10ms/step - loss: 0.0316 - binary_accuracy: 0.9920\n",
            "Epoch 45/50\n",
            "141/141 [==============================] - 1s 10ms/step - loss: 0.0192 - binary_accuracy: 0.9947\n",
            "Epoch 46/50\n",
            "141/141 [==============================] - 1s 10ms/step - loss: 0.0177 - binary_accuracy: 0.9947\n",
            "Epoch 47/50\n",
            "141/141 [==============================] - 1s 10ms/step - loss: 0.0166 - binary_accuracy: 0.9956\n",
            "Epoch 48/50\n",
            "141/141 [==============================] - 1s 10ms/step - loss: 0.0151 - binary_accuracy: 0.9958\n",
            "Epoch 49/50\n",
            "141/141 [==============================] - 1s 10ms/step - loss: 0.0142 - binary_accuracy: 0.9956\n",
            "Epoch 50/50\n",
            "141/141 [==============================] - 1s 10ms/step - loss: 0.0148 - binary_accuracy: 0.9947\n"
          ]
        },
        {
          "output_type": "execute_result",
          "data": {
            "text/plain": [
              "<keras.callbacks.History at 0x7f8f8d757b90>"
            ]
          },
          "metadata": {},
          "execution_count": 459
        }
      ]
    },
    {
      "cell_type": "markdown",
      "metadata": {
        "id": "jf5TuTjSuwpg"
      },
      "source": [
        "**Predicting the accuracy and loss for the test set**"
      ]
    },
    {
      "cell_type": "code",
      "metadata": {
        "id": "vi80jXN4joBV"
      },
      "source": [
        "evaluate = final_model.evaluate([test_set[:, 0], test_set[:, 1]] ,target_test,batch_size=32,verbose=0)"
      ],
      "execution_count": 466,
      "outputs": []
    },
    {
      "cell_type": "code",
      "metadata": {
        "colab": {
          "base_uri": "https://localhost:8080/"
        },
        "id": "EO1cmtwLrEPI",
        "outputId": "9a2b1a70-0cf3-4a79-b56a-5bb879b9a649"
      },
      "source": [
        "accuracy = evaluate[1]\n",
        "loss = evaluate[0]\n",
        "print('Loss for test set: ',loss)\n",
        "print('Accuracy for test set: ',accuracy)"
      ],
      "execution_count": 471,
      "outputs": [
        {
          "output_type": "stream",
          "name": "stdout",
          "text": [
            "Loss for test set:  0.28823373565674\n",
            "Accuracy for test set:  0.7422345106964\n"
          ]
        }
      ]
    },
    {
      "cell_type": "code",
      "metadata": {
        "id": "OhGqP7zYbfw8"
      },
      "source": [
        "%%shell\n",
        "jupyter nbconvert --to html /content/DL_Assignment3_Ajinkya.ipynb"
      ],
      "execution_count": null,
      "outputs": []
    }
  ]
}